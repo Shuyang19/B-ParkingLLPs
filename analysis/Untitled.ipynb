{
 "cells": [
  {
   "cell_type": "code",
   "execution_count": 1,
   "id": "d77a0744-b992-4254-b1f1-396c34d4655a",
   "metadata": {},
   "outputs": [],
   "source": [
    "import os\n",
    "\n",
    "directory = '/eos/uscms//store/user/ddiaz/B-Parking/V1p19_6/ParkingBPH4_2018A/'   # Set your directory path\n",
    "output_directory = '/eos/uscms//store/user/aaportel/' # Set your output directory path\n",
    "condor_script = 'condor_script.sub'  # Set your HTCondor script name\n"
   ]
  },
  {
   "cell_type": "code",
   "execution_count": 5,
   "id": "ddb175e9-bb02-4af3-ab78-677b12df51e5",
   "metadata": {},
   "outputs": [],
   "source": [
    "def create_condor_file(output_file, input_files):\n",
    "    input_files_str = \" \".join([f'\"{f}\"' for f in input_files]) # Enclose each input file in quotes\n",
    "    content = f\"\"\"\n",
    "    universe              = vanilla\n",
    "    executable            = /path/to/hadd\n",
    "    arguments             = \"{output_file} {input_files_str}\"\n",
    "    output                = {output_directory}/$(Cluster)_$(Process).out\n",
    "    error                 = {output_directory}/$(Cluster)_$(Process).err\n",
    "    log                   = {output_directory}/$(Cluster)_$(Process).log\n",
    "    request_cpus          = 1\n",
    "    queue\n",
    "    \"\"\"\n",
    "\n",
    "    with open(condor_script, 'w') as file:\n",
    "        file.write(content.strip())\n"
   ]
  },
  {
   "cell_type": "code",
   "execution_count": 6,
   "id": "db6c6c05-0722-489b-b83d-bc68514498c7",
   "metadata": {},
   "outputs": [],
   "source": [
    "def submit_condor_job():\n",
    "    os.system(f'condor_submit {condor_script}')\n"
   ]
  },
  {
   "cell_type": "code",
   "execution_count": 7,
   "id": "cfc55c41-1d57-4dfa-994d-99a3d770c2f6",
   "metadata": {},
   "outputs": [
    {
     "name": "stdout",
     "output_type": "stream",
     "text": [
      "Submitting job(s)Querying the CMS LPC pool and trying to find an available schedd...\n",
      "\n",
      "Attempting to submit jobs to lpcschedd5.fnal.gov\n",
      "\n"
     ]
    },
    {
     "name": "stderr",
     "output_type": "stream",
     "text": [
      "\n",
      "ERROR: on Line 7 of submit file: \n",
      "\n",
      "ERROR: Failed to parse command file (line 7).\n"
     ]
    },
    {
     "name": "stdout",
     "output_type": "stream",
     "text": [
      "Submitting job(s)Querying the CMS LPC pool and trying to find an available schedd...\n",
      "\n",
      "Attempting to submit jobs to lpcschedd5.fnal.gov\n",
      "\n"
     ]
    },
    {
     "name": "stderr",
     "output_type": "stream",
     "text": [
      "\n",
      "ERROR: on Line 7 of submit file: \n",
      "\n",
      "ERROR: Failed to parse command file (line 7).\n"
     ]
    },
    {
     "name": "stdout",
     "output_type": "stream",
     "text": [
      "Submitting job(s)Querying the CMS LPC pool and trying to find an available schedd...\n",
      "\n",
      "Attempting to submit jobs to lpcschedd5.fnal.gov\n",
      "\n"
     ]
    },
    {
     "name": "stderr",
     "output_type": "stream",
     "text": [
      "\n",
      "ERROR: on Line 7 of submit file: \n",
      "\n",
      "ERROR: Failed to parse command file (line 7).\n"
     ]
    },
    {
     "name": "stdout",
     "output_type": "stream",
     "text": [
      "Submitting job(s)Querying the CMS LPC pool and trying to find an available schedd...\n",
      "\n",
      "Attempting to submit jobs to lpcschedd5.fnal.gov\n",
      "\n"
     ]
    },
    {
     "name": "stderr",
     "output_type": "stream",
     "text": [
      "\n",
      "ERROR: on Line 7 of submit file: \n",
      "\n",
      "ERROR: Failed to parse command file (line 7).\n",
      "\n",
      "ERROR: on Line 7 of submit file: \n",
      "\n",
      "ERROR: Failed to parse command file (line 7).\n"
     ]
    },
    {
     "name": "stdout",
     "output_type": "stream",
     "text": [
      "Submitting job(s)Querying the CMS LPC pool and trying to find an available schedd...\n",
      "\n",
      "Attempting to submit jobs to lpcschedd5.fnal.gov\n",
      "\n"
     ]
    },
    {
     "name": "stderr",
     "output_type": "stream",
     "text": [
      "\n",
      "ERROR: on Line 7 of submit file: \n",
      "\n",
      "ERROR: Failed to parse command file (line 7).\n"
     ]
    },
    {
     "name": "stdout",
     "output_type": "stream",
     "text": [
      "Submitting job(s)Querying the CMS LPC pool and trying to find an available schedd...\n",
      "\n",
      "Attempting to submit jobs to lpcschedd5.fnal.gov\n",
      "\n"
     ]
    },
    {
     "name": "stderr",
     "output_type": "stream",
     "text": [
      "\n",
      "ERROR: on Line 7 of submit file: \n",
      "\n",
      "ERROR: Failed to parse command file (line 7).\n"
     ]
    },
    {
     "name": "stdout",
     "output_type": "stream",
     "text": [
      "Submitting job(s)Querying the CMS LPC pool and trying to find an available schedd...\n",
      "\n",
      "Attempting to submit jobs to lpcschedd5.fnal.gov\n",
      "\n",
      "Submitting job(s)Querying the CMS LPC pool and trying to find an available schedd...\n",
      "\n",
      "Attempting to submit jobs to lpcschedd5.fnal.gov\n",
      "\n"
     ]
    },
    {
     "name": "stderr",
     "output_type": "stream",
     "text": [
      "\n",
      "ERROR: on Line 7 of submit file: \n",
      "\n",
      "ERROR: Failed to parse command file (line 7).\n",
      "\n",
      "ERROR: on Line 7 of submit file: \n",
      "\n",
      "ERROR: Failed to parse command file (line 7).\n"
     ]
    },
    {
     "name": "stdout",
     "output_type": "stream",
     "text": [
      "Submitting job(s)Querying the CMS LPC pool and trying to find an available schedd...\n",
      "\n",
      "Attempting to submit jobs to lpcschedd5.fnal.gov\n",
      "\n"
     ]
    },
    {
     "name": "stderr",
     "output_type": "stream",
     "text": [
      "\n",
      "ERROR: on Line 7 of submit file: \n",
      "\n",
      "ERROR: Failed to parse command file (line 7).\n"
     ]
    },
    {
     "name": "stdout",
     "output_type": "stream",
     "text": [
      "Submitting job(s)Querying the CMS LPC pool and trying to find an available schedd...\n",
      "\n",
      "Attempting to submit jobs to lpcschedd5.fnal.gov\n",
      "\n"
     ]
    },
    {
     "name": "stderr",
     "output_type": "stream",
     "text": [
      "\n",
      "ERROR: on Line 7 of submit file: \n",
      "\n",
      "ERROR: Failed to parse command file (line 7).\n"
     ]
    },
    {
     "name": "stdout",
     "output_type": "stream",
     "text": [
      "Submitting job(s)Querying the CMS LPC pool and trying to find an available schedd...\n",
      "\n",
      "Attempting to submit jobs to lpcschedd5.fnal.gov\n",
      "\n"
     ]
    },
    {
     "name": "stderr",
     "output_type": "stream",
     "text": [
      "\n",
      "ERROR: on Line 7 of submit file: \n",
      "\n",
      "ERROR: Failed to parse command file (line 7).\n"
     ]
    },
    {
     "name": "stdout",
     "output_type": "stream",
     "text": [
      "Submitting job(s)Querying the CMS LPC pool and trying to find an available schedd...\n",
      "\n",
      "Attempting to submit jobs to lpcschedd5.fnal.gov\n",
      "\n",
      "Submitting job(s)Querying the CMS LPC pool and trying to find an available schedd...\n",
      "\n",
      "Attempting to submit jobs to lpcschedd5.fnal.gov\n",
      "\n"
     ]
    },
    {
     "name": "stderr",
     "output_type": "stream",
     "text": [
      "\n",
      "ERROR: on Line 7 of submit file: \n",
      "\n",
      "ERROR: Failed to parse command file (line 7).\n"
     ]
    },
    {
     "name": "stdout",
     "output_type": "stream",
     "text": [
      "Submitting job(s)Querying the CMS LPC pool and trying to find an available schedd...\n",
      "\n",
      "Attempting to submit jobs to lpcschedd5.fnal.gov\n",
      "\n"
     ]
    },
    {
     "name": "stderr",
     "output_type": "stream",
     "text": [
      "\n",
      "ERROR: on Line 7 of submit file: \n",
      "\n",
      "ERROR: Failed to parse command file (line 7).\n"
     ]
    },
    {
     "name": "stdout",
     "output_type": "stream",
     "text": [
      "Submitting job(s)Querying the CMS LPC pool and trying to find an available schedd...\n",
      "\n",
      "Attempting to submit jobs to lpcschedd5.fnal.gov\n",
      "\n"
     ]
    },
    {
     "name": "stderr",
     "output_type": "stream",
     "text": [
      "\n",
      "ERROR: on Line 7 of submit file: \n",
      "\n",
      "ERROR: Failed to parse command file (line 7).\n"
     ]
    },
    {
     "name": "stdout",
     "output_type": "stream",
     "text": [
      "Submitting job(s)Querying the CMS LPC pool and trying to find an available schedd...\n",
      "\n",
      "Attempting to submit jobs to lpcschedd5.fnal.gov\n",
      "\n"
     ]
    },
    {
     "name": "stderr",
     "output_type": "stream",
     "text": [
      "\n",
      "ERROR: on Line 7 of submit file: \n",
      "\n",
      "ERROR: Failed to parse command file (line 7).\n",
      "\n",
      "ERROR: on Line 7 of submit file: \n",
      "\n",
      "ERROR: Failed to parse command file (line 7).\n"
     ]
    },
    {
     "name": "stdout",
     "output_type": "stream",
     "text": [
      "Submitting job(s)Querying the CMS LPC pool and trying to find an available schedd...\n",
      "\n",
      "Attempting to submit jobs to lpcschedd5.fnal.gov\n",
      "\n",
      "Submitting job(s)Querying the CMS LPC pool and trying to find an available schedd...\n",
      "\n",
      "Attempting to submit jobs to lpcschedd5.fnal.gov\n",
      "\n"
     ]
    },
    {
     "name": "stderr",
     "output_type": "stream",
     "text": [
      "\n",
      "ERROR: on Line 7 of submit file: \n",
      "\n",
      "ERROR: Failed to parse command file (line 7).\n"
     ]
    },
    {
     "name": "stdout",
     "output_type": "stream",
     "text": [
      "Submitting job(s)Querying the CMS LPC pool and trying to find an available schedd...\n",
      "\n",
      "Attempting to submit jobs to lpcschedd5.fnal.gov\n",
      "\n"
     ]
    },
    {
     "name": "stderr",
     "output_type": "stream",
     "text": [
      "\n",
      "ERROR: on Line 7 of submit file: \n",
      "\n",
      "ERROR: Failed to parse command file (line 7).\n"
     ]
    },
    {
     "name": "stdout",
     "output_type": "stream",
     "text": [
      "Submitting job(s)Querying the CMS LPC pool and trying to find an available schedd...\n",
      "\n",
      "Attempting to submit jobs to lpcschedd5.fnal.gov\n",
      "\n"
     ]
    },
    {
     "name": "stderr",
     "output_type": "stream",
     "text": [
      "\n",
      "ERROR: on Line 7 of submit file: \n",
      "\n",
      "ERROR: Failed to parse command file (line 7).\n"
     ]
    },
    {
     "name": "stdout",
     "output_type": "stream",
     "text": [
      "Submitting job(s)Querying the CMS LPC pool and trying to find an available schedd...\n",
      "\n",
      "Attempting to submit jobs to lpcschedd5.fnal.gov\n",
      "\n"
     ]
    },
    {
     "name": "stderr",
     "output_type": "stream",
     "text": [
      "\n",
      "ERROR: on Line 7 of submit file: \n",
      "\n",
      "ERROR: Failed to parse command file (line 7).\n",
      "\n",
      "ERROR: on Line 7 of submit file: \n",
      "\n",
      "ERROR: Failed to parse command file (line 7).\n"
     ]
    },
    {
     "name": "stdout",
     "output_type": "stream",
     "text": [
      "Submitting job(s)Querying the CMS LPC pool and trying to find an available schedd...\n",
      "\n",
      "Attempting to submit jobs to lpcschedd5.fnal.gov\n",
      "\n"
     ]
    },
    {
     "name": "stderr",
     "output_type": "stream",
     "text": [
      "\n",
      "ERROR: on Line 7 of submit file: \n",
      "\n",
      "ERROR: Failed to parse command file (line 7).\n"
     ]
    },
    {
     "name": "stdout",
     "output_type": "stream",
     "text": [
      "Submitting job(s)Querying the CMS LPC pool and trying to find an available schedd...\n",
      "\n",
      "Attempting to submit jobs to lpcschedd5.fnal.gov\n",
      "\n"
     ]
    },
    {
     "name": "stderr",
     "output_type": "stream",
     "text": [
      "\n",
      "ERROR: on Line 7 of submit file: \n",
      "\n",
      "ERROR: Failed to parse command file (line 7).\n"
     ]
    },
    {
     "name": "stdout",
     "output_type": "stream",
     "text": [
      "Submitting job(s)Querying the CMS LPC pool and trying to find an available schedd...\n",
      "\n",
      "Attempting to submit jobs to lpcschedd5.fnal.gov\n",
      "\n",
      "Submitting job(s)Querying the CMS LPC pool and trying to find an available schedd...\n",
      "\n",
      "Attempting to submit jobs to lpcschedd5.fnal.gov\n",
      "\n"
     ]
    },
    {
     "name": "stderr",
     "output_type": "stream",
     "text": [
      "\n",
      "ERROR: on Line 7 of submit file: \n",
      "\n",
      "ERROR: Failed to parse command file (line 7).\n"
     ]
    },
    {
     "name": "stdout",
     "output_type": "stream",
     "text": [
      "Submitting job(s)Querying the CMS LPC pool and trying to find an available schedd...\n",
      "\n",
      "Attempting to submit jobs to lpcschedd5.fnal.gov\n",
      "\n"
     ]
    },
    {
     "name": "stderr",
     "output_type": "stream",
     "text": [
      "\n",
      "ERROR: on Line 7 of submit file: \n",
      "\n",
      "ERROR: Failed to parse command file (line 7).\n"
     ]
    },
    {
     "name": "stdout",
     "output_type": "stream",
     "text": [
      "Submitting job(s)Querying the CMS LPC pool and trying to find an available schedd...\n",
      "\n",
      "Attempting to submit jobs to lpcschedd5.fnal.gov\n",
      "\n"
     ]
    },
    {
     "name": "stderr",
     "output_type": "stream",
     "text": [
      "\n",
      "ERROR: on Line 7 of submit file: \n",
      "\n",
      "ERROR: Failed to parse command file (line 7).\n"
     ]
    },
    {
     "name": "stdout",
     "output_type": "stream",
     "text": [
      "Submitting job(s)Querying the CMS LPC pool and trying to find an available schedd...\n",
      "\n",
      "Attempting to submit jobs to lpcschedd5.fnal.gov\n",
      "\n"
     ]
    },
    {
     "name": "stderr",
     "output_type": "stream",
     "text": [
      "\n",
      "ERROR: on Line 7 of submit file: \n",
      "\n",
      "ERROR: Failed to parse command file (line 7).\n"
     ]
    },
    {
     "name": "stdout",
     "output_type": "stream",
     "text": [
      "Submitting job(s)Querying the CMS LPC pool and trying to find an available schedd...\n",
      "\n",
      "Attempting to submit jobs to lpcschedd5.fnal.gov\n",
      "\n"
     ]
    },
    {
     "name": "stderr",
     "output_type": "stream",
     "text": [
      "\n",
      "ERROR: on Line 7 of submit file: \n",
      "\n",
      "ERROR: Failed to parse command file (line 7).\n",
      "\n",
      "ERROR: on Line 7 of submit file: \n",
      "\n",
      "ERROR: Failed to parse command file (line 7).\n"
     ]
    },
    {
     "name": "stdout",
     "output_type": "stream",
     "text": [
      "Submitting job(s)Querying the CMS LPC pool and trying to find an available schedd...\n",
      "\n",
      "Attempting to submit jobs to lpcschedd5.fnal.gov\n",
      "\n"
     ]
    },
    {
     "name": "stderr",
     "output_type": "stream",
     "text": [
      "\n",
      "ERROR: on Line 7 of submit file: \n",
      "\n",
      "ERROR: Failed to parse command file (line 7).\n"
     ]
    },
    {
     "name": "stdout",
     "output_type": "stream",
     "text": [
      "Submitting job(s)Querying the CMS LPC pool and trying to find an available schedd...\n",
      "\n",
      "Attempting to submit jobs to lpcschedd5.fnal.gov\n",
      "\n",
      "Submitting job(s)Querying the CMS LPC pool and trying to find an available schedd...\n",
      "\n",
      "Attempting to submit jobs to lpcschedd5.fnal.gov\n",
      "\n"
     ]
    },
    {
     "name": "stderr",
     "output_type": "stream",
     "text": [
      "\n",
      "ERROR: on Line 7 of submit file: \n",
      "\n",
      "ERROR: Failed to parse command file (line 7).\n",
      "\n",
      "ERROR: on Line 7 of submit file: \n",
      "\n",
      "ERROR: Failed to parse command file (line 7).\n"
     ]
    },
    {
     "name": "stdout",
     "output_type": "stream",
     "text": [
      "Submitting job(s)Querying the CMS LPC pool and trying to find an available schedd...\n",
      "\n",
      "Attempting to submit jobs to lpcschedd5.fnal.gov\n",
      "\n"
     ]
    },
    {
     "name": "stderr",
     "output_type": "stream",
     "text": [
      "\n",
      "ERROR: on Line 7 of submit file: \n",
      "\n",
      "ERROR: Failed to parse command file (line 7).\n",
      "Traceback (most recent call last):\n",
      "  File \"/usr/local/bin/condor_submit\", line 15, in <module>\n",
      "    import argparse\n",
      "  File \"<frozen importlib._bootstrap>\", line 971, in _find_and_load\n",
      "  File \"<frozen importlib._bootstrap>\", line 955, in _find_and_load_unlocked\n",
      "  File \"<frozen importlib._bootstrap>\", line 665, in _load_unlocked\n",
      "  File \"<frozen importlib._bootstrap_external>\", line 674, in exec_module\n",
      "  File \"<frozen importlib._bootstrap_external>\", line 779, in get_code\n",
      "  File \"<frozen importlib._bootstrap_external>\", line 487, in _compile_bytecode\n",
      "KeyboardInterrupt\n"
     ]
    },
    {
     "name": "stdout",
     "output_type": "stream",
     "text": [
      "Submitting job(s)Querying the CMS LPC pool and trying to find an available schedd...\n",
      "\n",
      "Attempting to submit jobs to lpcschedd5.fnal.gov\n",
      "\n",
      "Querying the CMS LPC pool and trying to find an available schedd...\n",
      "\n",
      "\n",
      "Asynchronous signal received. Exiting...\n",
      "\n"
     ]
    },
    {
     "name": "stderr",
     "output_type": "stream",
     "text": [
      "terminate called after throwing an instance of 'boost::python::error_already_set'\n"
     ]
    },
    {
     "name": "stdout",
     "output_type": "stream",
     "text": [
      "Submitting job(s)Querying the CMS LPC pool and trying to find an available schedd...\n",
      "\n",
      "Attempting to submit jobs to lpcschedd5.fnal.gov\n",
      "\n"
     ]
    },
    {
     "name": "stderr",
     "output_type": "stream",
     "text": [
      "\n",
      "ERROR: on Line 7 of submit file: \n",
      "\n",
      "ERROR: Failed to parse command file (line 7).\n"
     ]
    },
    {
     "name": "stdout",
     "output_type": "stream",
     "text": [
      "Submitting job(s)Querying the CMS LPC pool and trying to find an available schedd...\n",
      "\n",
      "Attempting to submit jobs to lpcschedd5.fnal.gov\n",
      "\n"
     ]
    },
    {
     "name": "stderr",
     "output_type": "stream",
     "text": [
      "\n",
      "ERROR: on Line 7 of submit file: \n",
      "\n",
      "ERROR: Failed to parse command file (line 7).\n",
      "\n",
      "ERROR: on Line 7 of submit file: \n",
      "\n",
      "ERROR: Failed to parse command file (line 7).\n"
     ]
    },
    {
     "name": "stdout",
     "output_type": "stream",
     "text": [
      "Submitting job(s)Querying the CMS LPC pool and trying to find an available schedd...\n",
      "\n",
      "Attempting to submit jobs to lpcschedd5.fnal.gov\n",
      "\n"
     ]
    },
    {
     "name": "stderr",
     "output_type": "stream",
     "text": [
      "\n",
      "ERROR: on Line 7 of submit file: \n",
      "\n",
      "ERROR: Failed to parse command file (line 7).\n"
     ]
    },
    {
     "name": "stdout",
     "output_type": "stream",
     "text": [
      "Submitting job(s)Querying the CMS LPC pool and trying to find an available schedd...\n",
      "\n",
      "Attempting to submit jobs to lpcschedd5.fnal.gov\n",
      "\n",
      "Submitting job(s)Querying the CMS LPC pool and trying to find an available schedd...\n",
      "\n",
      "Attempting to submit jobs to lpcschedd5.fnal.gov\n",
      "\n"
     ]
    },
    {
     "name": "stderr",
     "output_type": "stream",
     "text": [
      "\n",
      "ERROR: on Line 7 of submit file: \n",
      "\n",
      "ERROR: Failed to parse command file (line 7).\n"
     ]
    },
    {
     "name": "stdout",
     "output_type": "stream",
     "text": [
      "Submitting job(s)Querying the CMS LPC pool and trying to find an available schedd...\n",
      "\n",
      "Attempting to submit jobs to lpcschedd5.fnal.gov\n",
      "\n"
     ]
    },
    {
     "name": "stderr",
     "output_type": "stream",
     "text": [
      "\n",
      "ERROR: on Line 7 of submit file: \n",
      "\n",
      "ERROR: Failed to parse command file (line 7).\n"
     ]
    },
    {
     "name": "stdout",
     "output_type": "stream",
     "text": [
      "Submitting job(s)Querying the CMS LPC pool and trying to find an available schedd...\n",
      "\n",
      "Attempting to submit jobs to lpcschedd5.fnal.gov\n",
      "\n"
     ]
    },
    {
     "name": "stderr",
     "output_type": "stream",
     "text": [
      "\n",
      "ERROR: on Line 7 of submit file: \n",
      "\n",
      "ERROR: Failed to parse command file (line 7).\n"
     ]
    },
    {
     "name": "stdout",
     "output_type": "stream",
     "text": [
      "Submitting job(s)Querying the CMS LPC pool and trying to find an available schedd...\n",
      "\n",
      "Attempting to submit jobs to lpcschedd5.fnal.gov\n",
      "\n"
     ]
    },
    {
     "name": "stderr",
     "output_type": "stream",
     "text": [
      "\n",
      "ERROR: on Line 7 of submit file: \n",
      "\n",
      "ERROR: Failed to parse command file (line 7).\n"
     ]
    },
    {
     "name": "stdout",
     "output_type": "stream",
     "text": [
      "Submitting job(s)Querying the CMS LPC pool and trying to find an available schedd...\n",
      "\n",
      "Attempting to submit jobs to lpcschedd5.fnal.gov\n",
      "\n"
     ]
    },
    {
     "name": "stderr",
     "output_type": "stream",
     "text": [
      "\n",
      "ERROR: on Line 7 of submit file: \n",
      "\n",
      "ERROR: Failed to parse command file (line 7).\n"
     ]
    },
    {
     "name": "stdout",
     "output_type": "stream",
     "text": [
      "Submitting job(s)Querying the CMS LPC pool and trying to find an available schedd...\n",
      "\n",
      "Attempting to submit jobs to lpcschedd5.fnal.gov\n",
      "\n"
     ]
    },
    {
     "name": "stderr",
     "output_type": "stream",
     "text": [
      "\n",
      "ERROR: on Line 7 of submit file: \n",
      "\n",
      "ERROR: Failed to parse command file (line 7).\n",
      "\n",
      "ERROR: on Line 7 of submit file: \n",
      "\n",
      "ERROR: Failed to parse command file (line 7).\n"
     ]
    },
    {
     "name": "stdout",
     "output_type": "stream",
     "text": [
      "Submitting job(s)Querying the CMS LPC pool and trying to find an available schedd...\n",
      "\n",
      "Attempting to submit jobs to lpcschedd5.fnal.gov\n",
      "\n",
      "Submitting job(s)Querying the CMS LPC pool and trying to find an available schedd...\n",
      "\n",
      "Attempting to submit jobs to lpcschedd5.fnal.gov\n",
      "\n"
     ]
    },
    {
     "name": "stderr",
     "output_type": "stream",
     "text": [
      "\n",
      "ERROR: on Line 7 of submit file: \n",
      "\n",
      "ERROR: Failed to parse command file (line 7).\n"
     ]
    },
    {
     "name": "stdout",
     "output_type": "stream",
     "text": [
      "Submitting job(s)Querying the CMS LPC pool and trying to find an available schedd...\n",
      "\n",
      "Attempting to submit jobs to lpcschedd5.fnal.gov\n",
      "\n"
     ]
    },
    {
     "name": "stderr",
     "output_type": "stream",
     "text": [
      "\n",
      "ERROR: on Line 7 of submit file: \n",
      "\n",
      "ERROR: Failed to parse command file (line 7).\n"
     ]
    },
    {
     "name": "stdout",
     "output_type": "stream",
     "text": [
      "Submitting job(s)Querying the CMS LPC pool and trying to find an available schedd...\n",
      "\n",
      "Attempting to submit jobs to lpcschedd5.fnal.gov\n",
      "\n"
     ]
    },
    {
     "name": "stderr",
     "output_type": "stream",
     "text": [
      "\n",
      "ERROR: on Line 7 of submit file: \n",
      "\n",
      "ERROR: Failed to parse command file (line 7).\n",
      "\n",
      "ERROR: on Line 7 of submit file: \n",
      "\n",
      "ERROR: Failed to parse command file (line 7).\n"
     ]
    },
    {
     "name": "stdout",
     "output_type": "stream",
     "text": [
      "Submitting job(s)Querying the CMS LPC pool and trying to find an available schedd...\n",
      "\n",
      "Attempting to submit jobs to lpcschedd5.fnal.gov\n",
      "\n"
     ]
    },
    {
     "name": "stderr",
     "output_type": "stream",
     "text": [
      "\n",
      "ERROR: on Line 7 of submit file: \n",
      "\n",
      "ERROR: Failed to parse command file (line 7).\n"
     ]
    },
    {
     "name": "stdout",
     "output_type": "stream",
     "text": [
      "Submitting job(s)Querying the CMS LPC pool and trying to find an available schedd...\n",
      "\n",
      "Attempting to submit jobs to lpcschedd5.fnal.gov\n",
      "\n"
     ]
    },
    {
     "name": "stderr",
     "output_type": "stream",
     "text": [
      "\n",
      "ERROR: on Line 7 of submit file: \n",
      "\n",
      "ERROR: Failed to parse command file (line 7).\n"
     ]
    },
    {
     "name": "stdout",
     "output_type": "stream",
     "text": [
      "Submitting job(s)Querying the CMS LPC pool and trying to find an available schedd...\n",
      "\n",
      "Attempting to submit jobs to lpcschedd5.fnal.gov\n",
      "\n"
     ]
    },
    {
     "name": "stderr",
     "output_type": "stream",
     "text": [
      "\n",
      "ERROR: on Line 7 of submit file: \n",
      "\n",
      "ERROR: Failed to parse command file (line 7).\n"
     ]
    },
    {
     "name": "stdout",
     "output_type": "stream",
     "text": [
      "Submitting job(s)Querying the CMS LPC pool and trying to find an available schedd...\n",
      "\n",
      "Attempting to submit jobs to lpcschedd5.fnal.gov\n",
      "\n",
      "Submitting job(s)Querying the CMS LPC pool and trying to find an available schedd...\n",
      "\n",
      "Attempting to submit jobs to lpcschedd5.fnal.gov\n",
      "\n"
     ]
    },
    {
     "name": "stderr",
     "output_type": "stream",
     "text": [
      "\n",
      "ERROR: on Line 7 of submit file: \n",
      "\n",
      "ERROR: Failed to parse command file (line 7).\n",
      "\n",
      "ERROR: on Line 7 of submit file: \n",
      "\n",
      "ERROR: Failed to parse command file (line 7).\n"
     ]
    },
    {
     "name": "stdout",
     "output_type": "stream",
     "text": [
      "Submitting job(s)Querying the CMS LPC pool and trying to find an available schedd...\n",
      "\n",
      "Attempting to submit jobs to lpcschedd5.fnal.gov\n",
      "\n",
      "Submitting job(s)Querying the CMS LPC pool and trying to find an available schedd...\n",
      "\n",
      "Attempting to submit jobs to lpcschedd5.fnal.gov\n",
      "\n"
     ]
    },
    {
     "name": "stderr",
     "output_type": "stream",
     "text": [
      "\n",
      "ERROR: on Line 7 of submit file: \n",
      "\n",
      "ERROR: Failed to parse command file (line 7).\n",
      "\n",
      "ERROR: on Line 7 of submit file: \n",
      "\n",
      "ERROR: Failed to parse command file (line 7).\n"
     ]
    },
    {
     "name": "stdout",
     "output_type": "stream",
     "text": [
      "Submitting job(s)Querying the CMS LPC pool and trying to find an available schedd...\n",
      "\n",
      "Attempting to submit jobs to lpcschedd5.fnal.gov\n",
      "\n"
     ]
    },
    {
     "name": "stderr",
     "output_type": "stream",
     "text": [
      "\n",
      "ERROR: on Line 7 of submit file: \n",
      "\n",
      "ERROR: Failed to parse command file (line 7).\n"
     ]
    },
    {
     "name": "stdout",
     "output_type": "stream",
     "text": [
      "Submitting job(s)Querying the CMS LPC pool and trying to find an available schedd...\n",
      "\n",
      "Attempting to submit jobs to lpcschedd5.fnal.gov\n",
      "\n",
      "Submitting job(s)Querying the CMS LPC pool and trying to find an available schedd...\n",
      "\n",
      "Attempting to submit jobs to lpcschedd5.fnal.gov\n",
      "\n"
     ]
    },
    {
     "name": "stderr",
     "output_type": "stream",
     "text": [
      "\n",
      "ERROR: on Line 7 of submit file: \n",
      "\n",
      "ERROR: Failed to parse command file (line 7).\n"
     ]
    },
    {
     "name": "stdout",
     "output_type": "stream",
     "text": [
      "Submitting job(s)Querying the CMS LPC pool and trying to find an available schedd...\n",
      "\n",
      "Attempting to submit jobs to lpcschedd5.fnal.gov\n",
      "\n"
     ]
    },
    {
     "name": "stderr",
     "output_type": "stream",
     "text": [
      "\n",
      "ERROR: on Line 7 of submit file: \n",
      "\n",
      "ERROR: Failed to parse command file (line 7).\n"
     ]
    },
    {
     "name": "stdout",
     "output_type": "stream",
     "text": [
      "Submitting job(s)Querying the CMS LPC pool and trying to find an available schedd...\n",
      "\n",
      "Attempting to submit jobs to lpcschedd5.fnal.gov\n",
      "\n"
     ]
    },
    {
     "name": "stderr",
     "output_type": "stream",
     "text": [
      "\n",
      "ERROR: on Line 7 of submit file: \n",
      "\n",
      "ERROR: Failed to parse command file (line 7).\n",
      "\n",
      "ERROR: on Line 7 of submit file: \n",
      "\n",
      "ERROR: Failed to parse command file (line 7).\n"
     ]
    },
    {
     "name": "stdout",
     "output_type": "stream",
     "text": [
      "Submitting job(s)Querying the CMS LPC pool and trying to find an available schedd...\n",
      "\n",
      "Attempting to submit jobs to lpcschedd5.fnal.gov\n",
      "\n",
      "Submitting job(s)Querying the CMS LPC pool and trying to find an available schedd...\n",
      "\n",
      "Attempting to submit jobs to lpcschedd5.fnal.gov\n",
      "\n"
     ]
    },
    {
     "name": "stderr",
     "output_type": "stream",
     "text": [
      "\n",
      "ERROR: on Line 7 of submit file: \n",
      "\n",
      "ERROR: Failed to parse command file (line 7).\n"
     ]
    },
    {
     "name": "stdout",
     "output_type": "stream",
     "text": [
      "Submitting job(s)Querying the CMS LPC pool and trying to find an available schedd...\n",
      "\n",
      "Attempting to submit jobs to lpcschedd5.fnal.gov\n",
      "\n"
     ]
    },
    {
     "name": "stderr",
     "output_type": "stream",
     "text": [
      "\n",
      "ERROR: on Line 7 of submit file: \n",
      "\n",
      "ERROR: Failed to parse command file (line 7).\n"
     ]
    },
    {
     "name": "stdout",
     "output_type": "stream",
     "text": [
      "Submitting job(s)Querying the CMS LPC pool and trying to find an available schedd...\n",
      "\n",
      "Attempting to submit jobs to lpcschedd5.fnal.gov\n",
      "\n"
     ]
    },
    {
     "name": "stderr",
     "output_type": "stream",
     "text": [
      "\n",
      "ERROR: on Line 7 of submit file: \n",
      "\n",
      "ERROR: Failed to parse command file (line 7).\n"
     ]
    },
    {
     "name": "stdout",
     "output_type": "stream",
     "text": [
      "Submitting job(s)Querying the CMS LPC pool and trying to find an available schedd...\n",
      "\n",
      "Attempting to submit jobs to lpcschedd5.fnal.gov\n",
      "\n"
     ]
    },
    {
     "name": "stderr",
     "output_type": "stream",
     "text": [
      "\n",
      "ERROR: on Line 7 of submit file: \n",
      "\n",
      "ERROR: Failed to parse command file (line 7).\n",
      "\n",
      "ERROR: on Line 7 of submit file: \n",
      "\n",
      "ERROR: Failed to parse command file (line 7).\n"
     ]
    },
    {
     "name": "stdout",
     "output_type": "stream",
     "text": [
      "Submitting job(s)Querying the CMS LPC pool and trying to find an available schedd...\n",
      "\n",
      "Attempting to submit jobs to lpcschedd5.fnal.gov\n",
      "\n",
      "Submitting job(s)Querying the CMS LPC pool and trying to find an available schedd...\n",
      "\n",
      "Attempting to submit jobs to lpcschedd5.fnal.gov\n",
      "\n"
     ]
    },
    {
     "name": "stderr",
     "output_type": "stream",
     "text": [
      "\n",
      "ERROR: on Line 7 of submit file: \n",
      "\n",
      "ERROR: Failed to parse command file (line 7).\n"
     ]
    },
    {
     "name": "stdout",
     "output_type": "stream",
     "text": [
      "Submitting job(s)Querying the CMS LPC pool and trying to find an available schedd...\n",
      "\n",
      "Attempting to submit jobs to lpcschedd5.fnal.gov\n",
      "\n"
     ]
    },
    {
     "name": "stderr",
     "output_type": "stream",
     "text": [
      "\n",
      "ERROR: on Line 7 of submit file: \n",
      "\n",
      "ERROR: Failed to parse command file (line 7).\n",
      "\n",
      "ERROR: on Line 7 of submit file: \n",
      "\n",
      "ERROR: Failed to parse command file (line 7).\n"
     ]
    },
    {
     "name": "stdout",
     "output_type": "stream",
     "text": [
      "Submitting job(s)Querying the CMS LPC pool and trying to find an available schedd...\n",
      "\n",
      "Attempting to submit jobs to lpcschedd5.fnal.gov\n",
      "\n"
     ]
    },
    {
     "name": "stderr",
     "output_type": "stream",
     "text": [
      "\n",
      "ERROR: on Line 7 of submit file: \n",
      "\n",
      "ERROR: Failed to parse command file (line 7).\n"
     ]
    },
    {
     "name": "stdout",
     "output_type": "stream",
     "text": [
      "Submitting job(s)Querying the CMS LPC pool and trying to find an available schedd...\n",
      "\n",
      "Attempting to submit jobs to lpcschedd5.fnal.gov\n",
      "\n"
     ]
    },
    {
     "name": "stderr",
     "output_type": "stream",
     "text": [
      "\n",
      "ERROR: on Line 7 of submit file: \n",
      "\n",
      "ERROR: Failed to parse command file (line 7).\n"
     ]
    },
    {
     "name": "stdout",
     "output_type": "stream",
     "text": [
      "Submitting job(s)Querying the CMS LPC pool and trying to find an available schedd...\n",
      "\n",
      "Attempting to submit jobs to lpcschedd5.fnal.gov\n",
      "\n"
     ]
    },
    {
     "name": "stderr",
     "output_type": "stream",
     "text": [
      "\n",
      "ERROR: on Line 7 of submit file: \n",
      "\n",
      "ERROR: Failed to parse command file (line 7).\n"
     ]
    },
    {
     "name": "stdout",
     "output_type": "stream",
     "text": [
      "Submitting job(s)Querying the CMS LPC pool and trying to find an available schedd...\n",
      "\n",
      "Attempting to submit jobs to lpcschedd5.fnal.gov\n",
      "\n",
      "Submitting job(s)Querying the CMS LPC pool and trying to find an available schedd...\n",
      "\n",
      "Attempting to submit jobs to lpcschedd5.fnal.gov\n",
      "\n"
     ]
    },
    {
     "name": "stderr",
     "output_type": "stream",
     "text": [
      "\n",
      "ERROR: on Line 7 of submit file: \n",
      "\n",
      "ERROR: Failed to parse command file (line 7).\n"
     ]
    },
    {
     "name": "stdout",
     "output_type": "stream",
     "text": [
      "Submitting job(s)Querying the CMS LPC pool and trying to find an available schedd...\n",
      "\n",
      "Attempting to submit jobs to lpcschedd5.fnal.gov\n",
      "\n"
     ]
    },
    {
     "name": "stderr",
     "output_type": "stream",
     "text": [
      "\n",
      "ERROR: on Line 7 of submit file: \n",
      "\n",
      "ERROR: Failed to parse command file (line 7).\n"
     ]
    },
    {
     "name": "stdout",
     "output_type": "stream",
     "text": [
      "Submitting job(s)Querying the CMS LPC pool and trying to find an available schedd...\n",
      "\n",
      "Attempting to submit jobs to lpcschedd5.fnal.gov\n",
      "\n"
     ]
    },
    {
     "name": "stderr",
     "output_type": "stream",
     "text": [
      "\n",
      "ERROR: on Line 7 of submit file: \n",
      "\n",
      "ERROR: Failed to parse command file (line 7).\n"
     ]
    },
    {
     "name": "stdout",
     "output_type": "stream",
     "text": [
      "Submitting job(s)Querying the CMS LPC pool and trying to find an available schedd...\n",
      "\n",
      "Attempting to submit jobs to lpcschedd5.fnal.gov\n",
      "\n"
     ]
    },
    {
     "name": "stderr",
     "output_type": "stream",
     "text": [
      "\n",
      "ERROR: on Line 7 of submit file: \n",
      "\n",
      "ERROR: Failed to parse command file (line 7).\n"
     ]
    },
    {
     "name": "stdout",
     "output_type": "stream",
     "text": [
      "Submitting job(s)Querying the CMS LPC pool and trying to find an available schedd...\n",
      "\n",
      "Attempting to submit jobs to lpcschedd5.fnal.gov\n",
      "\n"
     ]
    },
    {
     "name": "stderr",
     "output_type": "stream",
     "text": [
      "\n",
      "ERROR: on Line 7 of submit file: \n",
      "\n",
      "ERROR: Failed to parse command file (line 7).\n",
      "\n",
      "ERROR: on Line 7 of submit file: \n",
      "\n",
      "ERROR: Failed to parse command file (line 7).\n"
     ]
    },
    {
     "name": "stdout",
     "output_type": "stream",
     "text": [
      "Submitting job(s)Querying the CMS LPC pool and trying to find an available schedd...\n",
      "\n",
      "Attempting to submit jobs to lpcschedd5.fnal.gov\n",
      "\n"
     ]
    },
    {
     "name": "stderr",
     "output_type": "stream",
     "text": [
      "\n",
      "ERROR: on Line 7 of submit file: \n",
      "\n",
      "ERROR: Failed to parse command file (line 7).\n"
     ]
    },
    {
     "name": "stdout",
     "output_type": "stream",
     "text": [
      "Submitting job(s)Querying the CMS LPC pool and trying to find an available schedd...\n",
      "\n",
      "Attempting to submit jobs to lpcschedd5.fnal.gov\n",
      "\n",
      "Submitting job(s)Querying the CMS LPC pool and trying to find an available schedd...\n",
      "\n",
      "Attempting to submit jobs to lpcschedd5.fnal.gov\n",
      "\n"
     ]
    },
    {
     "name": "stderr",
     "output_type": "stream",
     "text": [
      "\n",
      "ERROR: on Line 7 of submit file: \n",
      "\n",
      "ERROR: Failed to parse command file (line 7).\n"
     ]
    },
    {
     "name": "stdout",
     "output_type": "stream",
     "text": [
      "Submitting job(s)Querying the CMS LPC pool and trying to find an available schedd...\n",
      "\n",
      "Attempting to submit jobs to lpcschedd5.fnal.gov\n",
      "\n"
     ]
    },
    {
     "name": "stderr",
     "output_type": "stream",
     "text": [
      "\n",
      "ERROR: on Line 7 of submit file: \n",
      "\n",
      "ERROR: Failed to parse command file (line 7).\n"
     ]
    },
    {
     "name": "stdout",
     "output_type": "stream",
     "text": [
      "Submitting job(s)Querying the CMS LPC pool and trying to find an available schedd...\n",
      "\n",
      "Attempting to submit jobs to lpcschedd5.fnal.gov\n",
      "\n"
     ]
    },
    {
     "name": "stderr",
     "output_type": "stream",
     "text": [
      "\n",
      "ERROR: on Line 7 of submit file: \n",
      "\n",
      "ERROR: Failed to parse command file (line 7).\n",
      "\n",
      "ERROR: on Line 7 of submit file: \n",
      "\n",
      "ERROR: Failed to parse command file (line 7).\n"
     ]
    },
    {
     "name": "stdout",
     "output_type": "stream",
     "text": [
      "Submitting job(s)Querying the CMS LPC pool and trying to find an available schedd...\n",
      "\n",
      "Attempting to submit jobs to lpcschedd5.fnal.gov\n",
      "\n",
      "Submitting job(s)Querying the CMS LPC pool and trying to find an available schedd...\n",
      "\n",
      "Attempting to submit jobs to lpcschedd5.fnal.gov\n",
      "\n"
     ]
    },
    {
     "name": "stderr",
     "output_type": "stream",
     "text": [
      "\n",
      "ERROR: on Line 7 of submit file: \n",
      "\n",
      "ERROR: Failed to parse command file (line 7).\n",
      "\n",
      "ERROR: on Line 7 of submit file: \n",
      "\n",
      "ERROR: Failed to parse command file (line 7).\n"
     ]
    },
    {
     "name": "stdout",
     "output_type": "stream",
     "text": [
      "Submitting job(s)Querying the CMS LPC pool and trying to find an available schedd...\n",
      "\n",
      "Attempting to submit jobs to lpcschedd5.fnal.gov\n",
      "\n",
      "Submitting job(s)Querying the CMS LPC pool and trying to find an available schedd...\n",
      "\n",
      "Attempting to submit jobs to lpcschedd5.fnal.gov\n",
      "\n"
     ]
    },
    {
     "name": "stderr",
     "output_type": "stream",
     "text": [
      "\n",
      "ERROR: on Line 7 of submit file: \n",
      "\n",
      "ERROR: Failed to parse command file (line 7).\n"
     ]
    },
    {
     "name": "stdout",
     "output_type": "stream",
     "text": [
      "Submitting job(s)Querying the CMS LPC pool and trying to find an available schedd...\n",
      "\n",
      "Attempting to submit jobs to lpcschedd5.fnal.gov\n",
      "\n"
     ]
    },
    {
     "name": "stderr",
     "output_type": "stream",
     "text": [
      "\n",
      "ERROR: on Line 7 of submit file: \n",
      "\n",
      "ERROR: Failed to parse command file (line 7).\n",
      "\n",
      "ERROR: on Line 7 of submit file: \n",
      "\n",
      "ERROR: Failed to parse command file (line 7).\n"
     ]
    },
    {
     "name": "stdout",
     "output_type": "stream",
     "text": [
      "Submitting job(s)Querying the CMS LPC pool and trying to find an available schedd...\n",
      "\n",
      "Attempting to submit jobs to lpcschedd5.fnal.gov\n",
      "\n"
     ]
    },
    {
     "name": "stderr",
     "output_type": "stream",
     "text": [
      "\n",
      "ERROR: on Line 7 of submit file: \n",
      "\n",
      "ERROR: Failed to parse command file (line 7).\n"
     ]
    },
    {
     "name": "stdout",
     "output_type": "stream",
     "text": [
      "Submitting job(s)Querying the CMS LPC pool and trying to find an available schedd...\n",
      "\n",
      "Attempting to submit jobs to lpcschedd5.fnal.gov\n",
      "\n",
      "Submitting job(s)Querying the CMS LPC pool and trying to find an available schedd...\n",
      "\n",
      "Attempting to submit jobs to lpcschedd5.fnal.gov\n",
      "\n"
     ]
    },
    {
     "name": "stderr",
     "output_type": "stream",
     "text": [
      "\n",
      "ERROR: on Line 7 of submit file: \n",
      "\n",
      "ERROR: Failed to parse command file (line 7).\n",
      "\n",
      "ERROR: on Line 7 of submit file: \n",
      "\n",
      "ERROR: Failed to parse command file (line 7).\n"
     ]
    },
    {
     "name": "stdout",
     "output_type": "stream",
     "text": [
      "Submitting job(s)Querying the CMS LPC pool and trying to find an available schedd...\n",
      "\n",
      "Attempting to submit jobs to lpcschedd5.fnal.gov\n",
      "\n",
      "Submitting job(s)Querying the CMS LPC pool and trying to find an available schedd...\n",
      "\n",
      "Attempting to submit jobs to lpcschedd5.fnal.gov\n",
      "\n"
     ]
    },
    {
     "name": "stderr",
     "output_type": "stream",
     "text": [
      "\n",
      "ERROR: on Line 7 of submit file: \n",
      "\n",
      "ERROR: Failed to parse command file (line 7).\n"
     ]
    }
   ],
   "source": [
    "root_files = [os.path.join(directory, f) for f in os.listdir(directory) if f.endswith('.root')]\n",
    "\n",
    "for i in range(0, len(root_files), 4):\n",
    "    batch_files = root_files[i:i+4]\n",
    "    output_file = f\"{output_directory}/combined{i}.root\"\n",
    "    create_condor_file(output_file, batch_files)\n",
    "    submit_condor_job()\n"
   ]
  },
  {
   "cell_type": "code",
   "execution_count": null,
   "id": "aebbe430-483c-4bfa-ae41-07e67e7b855b",
   "metadata": {},
   "outputs": [],
   "source": []
  }
 ],
 "metadata": {
  "kernelspec": {
   "display_name": "Python 3 (ipykernel)",
   "language": "python",
   "name": "python3"
  },
  "language_info": {
   "codemirror_mode": {
    "name": "ipython",
    "version": 3
   },
   "file_extension": ".py",
   "mimetype": "text/x-python",
   "name": "python",
   "nbconvert_exporter": "python",
   "pygments_lexer": "ipython3",
   "version": "3.11.4"
  }
 },
 "nbformat": 4,
 "nbformat_minor": 5
}
