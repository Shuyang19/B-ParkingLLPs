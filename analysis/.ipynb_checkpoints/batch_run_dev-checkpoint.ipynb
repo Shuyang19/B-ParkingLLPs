{
 "cells": [
  {
   "cell_type": "code",
   "execution_count": 4,
   "id": "ea1f4511-afbc-4de3-aeaa-486be69d572b",
   "metadata": {},
   "outputs": [],
   "source": [
    "import uproot\n",
    "import subprocess\n",
    "import numpy as np"
   ]
  },
  {
   "cell_type": "code",
   "execution_count": 5,
   "id": "03598f44-296e-4ca6-9d52-b3525a345046",
   "metadata": {},
   "outputs": [],
   "source": [
    "def read_chunk_of_root_file(root_file_path, tree_name, start_entry, stop_entry):\n",
    "    # Open the ROOT file and get the TTree\n",
    "    file = uproot.open(root_file_path)\n",
    "    tree = file[tree_name]\n",
    "\n",
    "    # Read the required chunk of data from the TTree\n",
    "    chunk = tree.arrays(entry_start=start_entry, entry_stop=stop_entry)\n",
    "\n",
    "    return chunk"
   ]
  },
  {
   "cell_type": "code",
   "execution_count": 6,
   "id": "0ce005bb-df1d-46d0-8084-e17661e8630c",
   "metadata": {},
   "outputs": [],
   "source": [
    "def run_analyzer_binary(analyzer_binary_path, data):\n",
    "    # Convert the data to a format suitable for passing to the binary (e.g., numpy arrays to binary files)\n",
    "    # Modify this part based on the data format expected by the compiled analyzer binary.\n",
    "\n",
    "    # Example: Saving numpy arrays as binary files\n",
    "    for key, value in data.items():\n",
    "        np.save(f\"{key}.npy\", value)\n",
    "\n",
    "    # Call the compiled analyzer binary\n",
    "    subprocess.run([analyzer_binary_path])\n",
    "\n",
    "    # Clean up temporary files (optional)\n",
    "    for key in data.keys():\n",
    "        subprocess.run([\"rm\", f\"{key}.npy\"])"
   ]
  },
  {
   "cell_type": "code",
   "execution_count": null,
   "id": "fbb19721-9958-4726-ab62-2ae7762f3d8a",
   "metadata": {},
   "outputs": [],
   "source": []
  }
 ],
 "metadata": {
  "kernelspec": {
   "display_name": "Python 3 (ipykernel)",
   "language": "python",
   "name": "python3"
  },
  "language_info": {
   "codemirror_mode": {
    "name": "ipython",
    "version": 3
   },
   "file_extension": ".py",
   "mimetype": "text/x-python",
   "name": "python",
   "nbconvert_exporter": "python",
   "pygments_lexer": "ipython3",
   "version": "3.11.4"
  }
 },
 "nbformat": 4,
 "nbformat_minor": 5
}
