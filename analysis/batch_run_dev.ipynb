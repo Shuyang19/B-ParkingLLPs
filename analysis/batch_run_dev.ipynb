{
 "cells": [
  {
   "cell_type": "code",
   "execution_count": 4,
   "id": "ea1f4511-afbc-4de3-aeaa-486be69d572b",
   "metadata": {},
   "outputs": [],
   "source": [
    "import uproot\n",
    "import subprocess\n",
    "import numpy as np"
   ]
  },
  {
   "cell_type": "code",
   "execution_count": 30,
   "id": "82e07f9d-bbd8-48e8-9855-7a42dffa70b4",
   "metadata": {
    "scrolled": true
   },
   "outputs": [
    {
     "name": "stdout",
     "output_type": "stream",
     "text": [
      "/uscms_data/d3/aaportel/CMSSW_9_4_4/src/B-ParkingLLPs/analysis\n"
     ]
    }
   ],
   "source": [
    "!pwd"
   ]
  },
  {
   "cell_type": "code",
   "execution_count": 43,
   "id": "fbb19721-9958-4726-ab62-2ae7762f3d8a",
   "metadata": {},
   "outputs": [
    {
     "name": "stderr",
     "output_type": "stream",
     "text": [
      "./RunAnalyzer.exe: error while loading shared libraries: libCore.so: cannot open shared object file: No such file or directory\n"
     ]
    }
   ],
   "source": [
    "import uproot\n",
    "import subprocess\n",
    "\n",
    "def read_chunk_of_root_file(root_file_path, tree_name, start_entry, stop_entry):\n",
    "    # Open the ROOT file and get the TTree\n",
    "    file = uproot.open(root_file_path)\n",
    "    tree = file[tree_name]\n",
    "\n",
    "    # Read the required chunk of data from the TTree\n",
    "    chunk = tree.arrays(entry_start=start_entry, entry_stop=stop_entry)\n",
    "\n",
    "    return chunk\n",
    "\n",
    "def run_analyzer_binary(analyzer_binary_path, root_file_path):\n",
    "    # Call the compiled analyzer binary with the path to the ROOT file\n",
    "    subprocess.run([analyzer_binary_path, root_file_path])\n",
    "\n",
    "\n",
    "# Replace these paths with your actual ROOT file and analyzer binary paths\n",
    "root_file_path = '/eos/uscms/' + \\\n",
    "'store/user/ddiaz/B-Parking/V1p19_1/' + \\\n",
    "'BToKPhi_MuonLLPDecayGenFilter_PhiToPi0Pi0_mPhi0p3_ctau300/' + \\\n",
    "'BToKPhi_MuonLLPDecayGenFilter_PhiToPi0Pi0_mPhi0p3_ctau300.root'\n",
    "\n",
    "analyzer_binary_path = \"./RunAnalyzer.exe\"\n",
    "\n",
    "# Replace \"your_tree_name\" with the name of the TTree you want to read\n",
    "tree_name = \"MuonSystem\"\n",
    "\n",
    "# Set the start and stop entry indices of the chunk you want to read\n",
    "start_entry = 0\n",
    "stop_entry = 100  # Replace this with the end entry index of your desired chunk\n",
    "\n",
    "# Read the chunk of data from the ROOT file\n",
    "data_chunk = read_chunk_of_root_file(root_file_path, tree_name, start_entry, stop_entry)\n",
    "\n",
    "# Run the analyzer binary with the path to the ROOT file\n",
    "run_analyzer_binary(analyzer_binary_path, root_file_path)\n"
   ]
  },
  {
   "cell_type": "code",
   "execution_count": 48,
   "id": "d4fbe7eb-ca4f-403e-9e91-32ae8af44178",
   "metadata": {},
   "outputs": [
    {
     "name": "stdout",
     "output_type": "stream",
     "text": [
      "./RunAnalyzer.exe: error while loading shared libraries: libCore.so: cannot open shared object file: No such file or directory\n"
     ]
    }
   ],
   "source": [
    "!./RunAnalyzer.exe"
   ]
  },
  {
   "cell_type": "code",
   "execution_count": 47,
   "id": "2c88e304-7d2c-4967-a72c-6dcaea448066",
   "metadata": {},
   "outputs": [],
   "source": [
    "!cmsenv"
   ]
  },
  {
   "cell_type": "code",
   "execution_count": null,
   "id": "75f30712-97bd-4f05-bcd7-622755cd84db",
   "metadata": {},
   "outputs": [],
   "source": []
  }
 ],
 "metadata": {
  "kernelspec": {
   "display_name": "Python 3 (ipykernel)",
   "language": "python",
   "name": "python3"
  },
  "language_info": {
   "codemirror_mode": {
    "name": "ipython",
    "version": 3
   },
   "file_extension": ".py",
   "mimetype": "text/x-python",
   "name": "python",
   "nbconvert_exporter": "python",
   "pygments_lexer": "ipython3",
   "version": "3.11.4"
  }
 },
 "nbformat": 4,
 "nbformat_minor": 5
}
