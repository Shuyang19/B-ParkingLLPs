{
 "cells": [
  {
   "cell_type": "code",
   "execution_count": 2,
   "id": "56855bfb-0c80-4056-ad8c-4338f2c77b60",
   "metadata": {},
   "outputs": [],
   "source": [
    "from processors import *\n",
    "import warnings, inspect\n",
    "from coffea import processor\n",
    "from coffea.nanoevents.methods import vector, candidate\n",
    "from coffea.nanoevents import BaseSchema\n",
    "#warnings.filterwarnings(\"ignore\")"
   ]
  },
  {
   "cell_type": "code",
   "execution_count": 4,
   "id": "9e6e7cd8-9a03-4feb-8f9d-6360e7f9bb42",
   "metadata": {},
   "outputs": [],
   "source": [
    "# prefix = '/eos/uscms/store/user/christiw/bparking/V1p19/MC_Fall18/v1/v9/normalized/'\n",
    "\n",
    "# filenames = [\n",
    "#     'BToKPhi_MuonGenFilter_PhiToPi0Pi0_mPhi0p3_ctau1000_1pb_weighted.root',\n",
    "#     'BToKPhi_MuonGenFilter_PhiToPi0Pi0_mPhi0p3_ctau300_1pb_weighted.root',\n",
    "#     'BToKPhi_MuonGenFilter_PhiToPiPlusPiMinus_mPhi0p3_ctau1000_1pb_weighted.root',\n",
    "#     'BToKPhi_MuonGenFilter_PhiToPiPlusPiMinus_mPhi0p3_ctau300_1pb_weighted.root',\n",
    "# ]\n",
    "\n",
    "# fileset = {\n",
    "#     f\"{file.split('_')[2]}_{file.split('_')[3]}_{file.split('_')[4]}\": \n",
    "#     [prefix+file] \n",
    "#     for file in filenames\n",
    "# }\n",
    "\n",
    "# fileset['background'] = ['/eos/uscms/store/user/christiw/bparking/V1p19/Data2018_UL/v9/normalized/ParkingBPH4_2018A_goodLumi.root']\n",
    "\n",
    "#=======================================================================\n",
    "\n",
    "prefix = 'root://cmseos.fnal.gov//store/user/ahayrape/BigNtupler/'\n",
    "\n",
    "fileset = {\n",
    "            'PhiToPi0Pi0_mPhi0p3_ctau300':\n",
    "                [prefix + 'PhiToPi0Pi0_mPhi0p3_ctau300.root'],\n",
    "\n",
    "            'PhiToPi0Pi0_mPhi1p0_ctau1000':\n",
    "                [prefix + 'PhiToPi0Pi0_mPhi1p0_ctau1000.root'],\n",
    "\n",
    "            'PhiToPiPlusPiMinus_mPhi0p3_ctau300':\n",
    "                [prefix + 'PhiToPiPlusPiMinus_mPhi0p3_ctau300.root'],\n",
    "\n",
    "            'PhiToPiPlusPiMinus_mPhi1p0_ctau1000':\n",
    "                [prefix + 'PhiToPiPlusPiMinus_mPhi1p0_ctau1000.root'],\n",
    "\n",
    "            'PhiToPiPlusPiMinus_mPhi1p0_ctau300':\n",
    "                [prefix + 'PhiToPiPlusPiMinus_mPhi1p0_ctau300.root'],\n",
    "         }\n",
    "\n",
    "# fileset['background'] = [prefix + 'Background.root']\n",
    "fileset['background'] = ['/eos/uscms/store/user/christiw/bparking/V1p19/Data2018_UL/v9/normalized/ParkingBPH4_2018A_goodLumi.root']\n"
   ]
  },
  {
   "cell_type": "code",
   "execution_count": 18,
   "id": "eac119f2-9bd6-418e-9692-7ca556432d86",
   "metadata": {},
   "outputs": [
    {
     "data": {
      "text/html": [
       "<pre style=\"white-space:pre;overflow-x:auto;line-height:normal;font-family:Menlo,'DejaVu Sans Mono',consolas,'Courier New',monospace\">     <span style=\"color: #000080; text-decoration-color: #000080; font-weight: bold\">Processing</span> <span style=\"color: #800080; text-decoration-color: #800080\">100%</span> <span style=\"color: #729c1f; text-decoration-color: #729c1f\">━━━━━━━━━━━━━━━━━━━━━━━━━━━━━━━━━━━━━━━━━━━━━━━━</span> <span style=\"color: #000080; text-decoration-color: #000080; font-weight: bold\">329/329</span> [ <span style=\"color: #808000; text-decoration-color: #808000\">0:05:59</span> &lt; <span style=\"color: #008080; text-decoration-color: #008080\">0:00:00</span> | <span style=\"color: #800000; text-decoration-color: #800000\">1.3 </span>  <span style=\"color: #800000; text-decoration-color: #800000\">chunk/s</span> ]\n",
       "<span style=\"color: #000080; text-decoration-color: #000080; font-weight: bold\">Merging (local)</span> <span style=\"color: #800080; text-decoration-color: #800080\">100%</span> <span style=\"color: #729c1f; text-decoration-color: #729c1f\">━━━━━━━━━━━━━━━━━━━━━━━━━━━━━━━━━━━━━━━━━━━━━━━━</span> <span style=\"color: #000080; text-decoration-color: #000080; font-weight: bold\">329/329</span> [ <span style=\"color: #808000; text-decoration-color: #808000\">0:06:00</span> &lt; <span style=\"color: #008080; text-decoration-color: #008080\">0:00:00</span> | <span style=\"color: #800000; text-decoration-color: #800000\">25.8</span> <span style=\"color: #800000; text-decoration-color: #800000\">merges/s</span> ]\n",
       "</pre>\n"
      ],
      "text/plain": [
       "     \u001b[1;34mProcessing\u001b[0m \u001b[35m100%\u001b[0m \u001b[38;2;114;156;31m━━━━━━━━━━━━━━━━━━━━━━━━━━━━━━━━━━━━━━━━━━━━━━━━\u001b[0m \u001b[1;34m329/329\u001b[0m [ \u001b[33m0:05:59\u001b[0m < \u001b[36m0:00:00\u001b[0m | \u001b[31m1.3 \u001b[0m  \u001b[31mchunk/s\u001b[0m ]\n",
       "\u001b[1;34mMerging (local)\u001b[0m \u001b[35m100%\u001b[0m \u001b[38;2;114;156;31m━━━━━━━━━━━━━━━━━━━━━━━━━━━━━━━━━━━━━━━━━━━━━━━━\u001b[0m \u001b[1;34m329/329\u001b[0m [ \u001b[33m0:06:00\u001b[0m < \u001b[36m0:00:00\u001b[0m | \u001b[31m25.8\u001b[0m \u001b[31mmerges/s\u001b[0m ]\n"
      ]
     },
     "metadata": {},
     "output_type": "display_data"
    },
    {
     "data": {
      "text/html": [
       "<pre style=\"white-space:pre;overflow-x:auto;line-height:normal;font-family:Menlo,'DejaVu Sans Mono',consolas,'Courier New',monospace\"></pre>\n"
      ],
      "text/plain": []
     },
     "metadata": {},
     "output_type": "display_data"
    },
    {
     "data": {
      "text/html": [
       "<pre style=\"white-space:pre;overflow-x:auto;line-height:normal;font-family:Menlo,'DejaVu Sans Mono',consolas,'Courier New',monospace\">\n",
       "</pre>\n"
      ],
      "text/plain": [
       "\n"
      ]
     },
     "metadata": {},
     "output_type": "display_data"
    }
   ],
   "source": [
    "processors = {\n",
    "    # 'ProcessorV1': ProcessorV1(),\n",
    "    'ProcessorV2': ProcessorV2(),\n",
    "    #'ProcessorV3': ProcessorV3('CSC'),\n",
    "}\n",
    "\n",
    "\n",
    "test_mode = False\n",
    "\n",
    "for proc in processors:\n",
    "    print(proc)\n",
    "    if test_mode:\n",
    "        out = processor.run_uproot_job(\n",
    "            fileset,\n",
    "            treename=\"MuonSystem\",\n",
    "            processor_instance=processors[proc],\n",
    "            executor=processor.futures_executor,\n",
    "            # executor_args={\"schema\": BaseSchema, \"workers\": 10},\n",
    "            executor_args={\"schema\": BaseSchema, \"workers\": 1},\n",
    "            maxchunks = 1,\n",
    "            chunksize=1,\n",
    "        )\n",
    "    else:\n",
    "        out = processor.run_uproot_job(\n",
    "            fileset,\n",
    "            treename=\"MuonSystem\",\n",
    "            processor_instance=processors[proc],\n",
    "            executor=processor.futures_executor,\n",
    "            executor_args={\"schema\": BaseSchema, \"workers\": 10},\n",
    "            # executor_args={\"schema\": BaseSchema, \"workers\": 1},\n",
    "            # maxchunks = 200,\n",
    "            # chunksize=10000,\n",
    "        )\n",
    "        \n",
    "        filename = f'hists_cutflows_{proc}_04_17_23.pickle'\n",
    "        outfile = open(filename, 'wb')\n",
    "        pickle.dump(out, outfile)\n",
    "        outfile.close()"
   ]
  },
  {
   "cell_type": "code",
   "execution_count": 19,
   "id": "6a0fcd4d-f64e-4293-b534-79a9ae607de5",
   "metadata": {},
   "outputs": [
    {
     "data": {
      "text/plain": [
       "[('numEvents_pretrigger', 25667521),\n",
       " ('numEvents_|muonId| == 13', 25667155),\n",
       " ('numEvents_muonHLTReq', 24764401),\n",
       " ('numEvents_|muonEta| < 1.5', 22954060),\n",
       " ('numEvents_muonPt > 7', 22896397),\n",
       " ('numEvents_soft_muon_ID', 22039911),\n",
       " ('numEvents_leadMuon_cut', 22039911),\n",
       " ('numEvents_posttrigger', 22039911),\n",
       " ('numEvents_llp_acc', 22039911),\n",
       " ('numEvents_num Cluster > 0', 5032009),\n",
       " ('numEvents_dR_gllp_cls < .4', 5032009),\n",
       " ('numEvents_dR_lmuon_cls > .8', 3638409),\n",
       " ('numEvents_ME1112_veto', 225311),\n",
       " ('numEvents_re12_veto', 223242),\n",
       " ('numEvents_mb1_veto', 221292),\n",
       " ('numEvents_rb1_veto', 220292),\n",
       " ('numEvents_muon_veto_pt < 20', 219480),\n",
       " ('numEvents_-5 < cls_time < 12.5', 37360),\n",
       " ('numEvents_|cls_timeSpread| < 20', 25562),\n",
       " ('numEvents_|cls_eta| < 1.9', 4713),\n",
       " ('numEvents_cut_based_ID', 2662),\n",
       " ('numEvents_cls_size > 130', 97)]"
      ]
     },
     "execution_count": 19,
     "metadata": {},
     "output_type": "execute_result"
    }
   ],
   "source": [
    "[(thing,out['background'][thing]) for thing in out['background'] if 'numEvents' in thing and '_SF' not in thing]"
   ]
  },
  {
   "cell_type": "code",
   "execution_count": null,
   "id": "8a51ad81-f48f-4559-afa7-a2e83dee1c23",
   "metadata": {},
   "outputs": [],
   "source": []
  }
 ],
 "metadata": {
  "kernelspec": {
   "display_name": "Python 3 (ipykernel)",
   "language": "python",
   "name": "python3"
  },
  "language_info": {
   "codemirror_mode": {
    "name": "ipython",
    "version": 3
   },
   "file_extension": ".py",
   "mimetype": "text/x-python",
   "name": "python",
   "nbconvert_exporter": "python",
   "pygments_lexer": "ipython3",
   "version": "3.11.4"
  }
 },
 "nbformat": 4,
 "nbformat_minor": 5
}
