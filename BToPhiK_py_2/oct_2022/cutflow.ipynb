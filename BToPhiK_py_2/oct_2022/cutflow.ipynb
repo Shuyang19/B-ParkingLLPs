{
 "cells": [
  {
   "cell_type": "code",
   "execution_count": 1,
   "id": "b0d042a8-b04f-4744-8ffc-d672954a09fa",
   "metadata": {},
   "outputs": [],
   "source": [
    "import warnings\n",
    "import awkward as ak\n",
    "import hist as hs\n",
    "from hist.intervals import ratio_uncertainty\n",
    "import numpy as np\n",
    "import pandas as pd\n",
    "\n",
    "import mplhep as hep\n",
    "import matplotlib.pyplot as plt\n",
    "\n",
    "import pickle\n",
    "\n",
    "plt.style.use(hep.style.CMS)\n",
    "#plt.style.use('dark_background')"
   ]
  },
  {
   "cell_type": "code",
   "execution_count": 8,
   "id": "d44acc90-f7f0-4553-ae1a-d85dd1c71341",
   "metadata": {},
   "outputs": [],
   "source": [
    "#prefixes = ['ID_control','ID_optimized']\n",
    "prefixes = ['samples']\n",
    "fileset = [\n",
    "    'PhiToPi0Pi0_mPhi0p3_ctau300',\n",
    "    'PhiToPi0Pi0_mPhi1p0_ctau300',\n",
    "    'PhiToPiPlusPiMinus_mPhi0p3_ctau300',\n",
    "    'PhiToPiPlusPiMinus_mPhi1p0_ctau300',\n",
    "    'PhiToPiPi',\n",
    "    ]\n",
    "out = {}\n",
    "for prefix in prefixes:\n",
    "    out[prefix] = {}\n",
    "    for dataset in fileset:\n",
    "        filename = f'{prefix}/{dataset}.pickle'\n",
    "        infile = open(filename, 'rb')\n",
    "        out[prefix][dataset] = pickle.load(infile)\n",
    "        infile.close()\n",
    "        \n"
   ]
  },
  {
   "cell_type": "code",
   "execution_count": 11,
   "id": "84bb0452-bd61-4e1c-8804-fc04b26c932d",
   "metadata": {},
   "outputs": [
    {
     "data": {
      "text/plain": [
       "dict_keys(['PhiToPi0Pi0_mPhi0p3_ctau300', 'PhiToPi0Pi0_mPhi1p0_ctau300', 'PhiToPiPlusPiMinus_mPhi0p3_ctau300', 'PhiToPiPlusPiMinus_mPhi1p0_ctau300', 'PhiToPiPi'])"
      ]
     },
     "execution_count": 12,
     "metadata": {},
     "output_type": "execute_result"
    }
   ],
   "source": [
    "out['sam].keys()"
   ]
  },
  {
   "cell_type": "code",
   "execution_count": null,
   "id": "a56d183d-e007-418c-9472-eae53fb02870",
   "metadata": {},
   "outputs": [],
   "source": []
  }
 ],
 "metadata": {
  "kernelspec": {
   "display_name": "Python 3 (ipykernel)",
   "language": "python",
   "name": "python3"
  },
  "language_info": {
   "codemirror_mode": {
    "name": "ipython",
    "version": 3
   },
   "file_extension": ".py",
   "mimetype": "text/x-python",
   "name": "python",
   "nbconvert_exporter": "python",
   "pygments_lexer": "ipython3",
   "version": "3.9.15"
  }
 },
 "nbformat": 4,
 "nbformat_minor": 5
}
